{
 "cells": [
  {
   "cell_type": "code",
   "execution_count": 1,
   "id": "4e00a349",
   "metadata": {},
   "outputs": [
    {
     "name": "stdout",
     "output_type": "stream",
     "text": [
      "Hello!\n"
     ]
    }
   ],
   "source": [
    "# 沒有參數,沒有傳出值的function\n",
    "def sayHello():\n",
    "    print(\"Hello!\")\n",
    "\n",
    "sayHello()"
   ]
  },
  {
   "cell_type": "code",
   "execution_count": 2,
   "id": "217a6738",
   "metadata": {},
   "outputs": [
    {
     "name": "stdout",
     "output_type": "stream",
     "text": [
      "您好!Lance Hsu!\n"
     ]
    }
   ],
   "source": [
    "def sayHello(name): #1個參數,沒有傳出值\n",
    "    print(f\"您好!{name}!\")\n",
    "\n",
    "sayHello(\"Lance Hsu\")"
   ]
  },
  {
   "cell_type": "code",
   "execution_count": 3,
   "id": "7eb7ce69",
   "metadata": {},
   "outputs": [
    {
     "name": "stdout",
     "output_type": "stream",
     "text": [
      "您好!Lance Hsu!\n"
     ]
    }
   ],
   "source": [
    "def sayHello(name): #1個參數,有傳出值\n",
    "    return f\"您好!{name}!\"\n",
    "\n",
    "print(sayHello(\"Lance Hsu\"))"
   ]
  }
 ],
 "metadata": {
  "kernelspec": {
   "display_name": "base",
   "language": "python",
   "name": "python3"
  },
  "language_info": {
   "codemirror_mode": {
    "name": "ipython",
    "version": 3
   },
   "file_extension": ".py",
   "mimetype": "text/x-python",
   "name": "python",
   "nbconvert_exporter": "python",
   "pygments_lexer": "ipython3",
   "version": "3.13.2"
  }
 },
 "nbformat": 4,
 "nbformat_minor": 5
}
