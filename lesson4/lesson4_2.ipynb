{
 "cells": [
  {
   "cell_type": "code",
   "execution_count": 1,
   "id": "930ee08b",
   "metadata": {},
   "outputs": [
    {
     "name": "stdout",
     "output_type": "stream",
     "text": [
      "不及格\n"
     ]
    }
   ],
   "source": [
    "scores = int(input(\"請輸入學生分數(0-100):\"))\n",
    "\n",
    "if scores >= 60:\n",
    "    print(\"及格\")\n",
    "else:\n",
    "    print(\"不及格\")"
   ]
  },
  {
   "cell_type": "code",
   "execution_count": 4,
   "id": "130ae8e6",
   "metadata": {},
   "outputs": [
    {
     "name": "stdout",
     "output_type": "stream",
     "text": [
      "不及格\n"
     ]
    }
   ],
   "source": [
    "scores = int(input(\"請輸入學生分數(0-100):\"))\n",
    "\n",
    "if scores >= 90:\n",
    "    print(\"優\")\n",
    "else:\n",
    "    if scores >= 60:\n",
    "        print(\"及格\")\n",
    "    else:\n",
    "        print(\"不及格\")"
   ]
  },
  {
   "cell_type": "code",
   "execution_count": 3,
   "id": "d0360571",
   "metadata": {},
   "outputs": [
    {
     "name": "stdout",
     "output_type": "stream",
     "text": [
      "優\n"
     ]
    }
   ],
   "source": [
    "scores = int(input(\"請輸入學生分數(0-100):\"))\n",
    "\n",
    "if scores >= 90:\n",
    "    print(\"優\")\n",
    "elif scores >= 60:\n",
    "    print(\"及格\")\n",
    "else:\n",
    "    print(\"不及格\")"
   ]
  },
  {
   "cell_type": "code",
   "execution_count": 8,
   "id": "6cd22c05",
   "metadata": {},
   "outputs": [
    {
     "name": "stdout",
     "output_type": "stream",
     "text": [
      "丁\n"
     ]
    }
   ],
   "source": [
    "scores = int(input(\"請輸入學生分數(0-100):\"))\n",
    "\n",
    "if scores >= 90:\n",
    "    print(\"優\")\n",
    "elif scores >= 80:\n",
    "    print(\"甲\")\n",
    "elif scores >= 70:\n",
    "    print(\"乙\")\n",
    "elif scores >= 60:\n",
    "    print(\"丙\")\n",
    "else:\n",
    "    print(\"丁\")"
   ]
  },
  {
   "cell_type": "code",
   "execution_count": null,
   "id": "3097538a",
   "metadata": {},
   "outputs": [],
   "source": [
    "# 計算BMI\n",
    "print(\"====BMI計算=======\\n\")\n",
    "height = int(input(\"請輸入身高(cm):\"))\n",
    "weight = int(input(\"請輸入體重(kg):\"))\n",
    "bmi = weight / (height/100) ** 2\n",
    "print(f\"您的BMI是{round(bmi,ndigits=2)}\")"
   ]
  }
 ],
 "metadata": {
  "kernelspec": {
   "display_name": "base",
   "language": "python",
   "name": "python3"
  },
  "language_info": {
   "codemirror_mode": {
    "name": "ipython",
    "version": 3
   },
   "file_extension": ".py",
   "mimetype": "text/x-python",
   "name": "python",
   "nbconvert_exporter": "python",
   "pygments_lexer": "ipython3",
   "version": "3.13.2"
  }
 },
 "nbformat": 4,
 "nbformat_minor": 5
}
