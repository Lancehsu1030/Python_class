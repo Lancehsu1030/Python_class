{
 "cells": [
  {
   "cell_type": "code",
   "execution_count": 1,
   "id": "d289726e",
   "metadata": {},
   "outputs": [
    {
     "name": "stdout",
     "output_type": "stream",
     "text": [
      "恭喜!已經存夠了，存了36221元\n"
     ]
    }
   ],
   "source": [
    "# 小明想要存錢買一輛機車，機車每輛30000元，他將每月存的錢輸入，當存款足夠買機車時，就顯示提示訊息告知。\n",
    "deposit = 0\n",
    "while deposit < 30000:\n",
    "    inputNum = int(input('請輸入本月份的存款:'))\n",
    "    deposit += inputNum\n",
    "\n",
    "print(f\"恭喜!已經存夠了，存了{deposit}元\")"
   ]
  },
  {
   "cell_type": "code",
   "execution_count": 2,
   "id": "b5ce58e1",
   "metadata": {},
   "outputs": [
    {
     "name": "stdout",
     "output_type": "stream",
     "text": [
      "恭喜!已經存夠了，存了4月,共存了32000元\n"
     ]
    }
   ],
   "source": [
    "deposit = 0\n",
    "num = 0\n",
    "while deposit < 30000:\n",
    "    num += 1\n",
    "    inputNum = int(input(f'請輸入第{num}個月份的存款:'))\n",
    "    deposit += inputNum\n",
    "\n",
    "print(f\"恭喜!已經存夠了，存了{num}月,共存了{deposit}元\")"
   ]
  },
  {
   "cell_type": "code",
   "execution_count": null,
   "id": "6ac5dd39",
   "metadata": {},
   "outputs": [],
   "source": [
    "# 小明想要存錢買一輛機車，機車每輛30000元，他將每月存的錢輸入，當存款足夠買機車時，就顯示提示訊息告知。\n",
    "deposit = 0\n",
    "num = 0\n",
    "while True:\n",
    "    num += 1\n",
    "    inputNum = int(input(f'請輸入第{num}個月份的存款:'))\n",
    "    deposit += inputNum\n",
    "    if deposit >= 30000:\n",
    "        break\n",
    "\n",
    "print(f\"恭喜!已經存夠了，存了{num}月,共存了{deposit}元\")"
   ]
  }
 ],
 "metadata": {
  "kernelspec": {
   "display_name": "base",
   "language": "python",
   "name": "python3"
  },
  "language_info": {
   "codemirror_mode": {
    "name": "ipython",
    "version": 3
   },
   "file_extension": ".py",
   "mimetype": "text/x-python",
   "name": "python",
   "nbconvert_exporter": "python",
   "pygments_lexer": "ipython3",
   "version": "3.13.2"
  }
 },
 "nbformat": 4,
 "nbformat_minor": 5
}
