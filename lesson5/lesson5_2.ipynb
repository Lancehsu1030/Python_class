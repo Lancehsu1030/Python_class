{
 "cells": [
  {
   "cell_type": "code",
   "execution_count": null,
   "id": "016fca07",
   "metadata": {},
   "outputs": [],
   "source": [
    "total = 0\n",
    "total += 1\n",
    "total += 2\n",
    "total += 3\n",
    "total += 4\n",
    "total += 5\n",
    "total += 6\n",
    "total += 7\n",
    "total += 8\n",
    "total += 9\n",
    "total += 10\n",
    "\n",
    "total"
   ]
  },
  {
   "cell_type": "code",
   "execution_count": null,
   "id": "4fab0c8f",
   "metadata": {},
   "outputs": [],
   "source": [
    "total = 0\n",
    "for n in range(1,11):\n",
    "    total += n\n",
    "\n",
    "total"
   ]
  },
  {
   "cell_type": "code",
   "execution_count": null,
   "id": "92680c65",
   "metadata": {},
   "outputs": [],
   "source": [
    "# 使用說明\n",
    "\n",
    "list(range(10))\n",
    "list(range(1,11))\n",
    "list(range(1,11,2))"
   ]
  }
 ],
 "metadata": {
  "language_info": {
   "name": "python"
  }
 },
 "nbformat": 4,
 "nbformat_minor": 5
}
