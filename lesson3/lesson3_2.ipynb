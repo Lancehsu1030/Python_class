{
 "cells": [
  {
   "cell_type": "code",
   "execution_count": 1,
   "id": "90b8302e",
   "metadata": {},
   "outputs": [
    {
     "ename": "NameError",
     "evalue": "name '這是次標題' is not defined",
     "output_type": "error",
     "traceback": [
      "\u001b[31m---------------------------------------------------------------------------\u001b[39m",
      "\u001b[31mNameError\u001b[39m                                 Traceback (most recent call last)",
      "\u001b[36mCell\u001b[39m\u001b[36m \u001b[39m\u001b[32mIn[1]\u001b[39m\u001b[32m, line 1\u001b[39m\n\u001b[32m----> \u001b[39m\u001b[32m1\u001b[39m \u001b[43m這是次標題\u001b[49m\n\u001b[32m      2\u001b[39m 這是次次標題\n\u001b[32m      3\u001b[39m 這是項目符號\n",
      "\u001b[31mNameError\u001b[39m: name '這是次標題' is not defined"
     ]
    }
   ],
   "source": [
    "這是次標題\n",
    "這是次次標題\n",
    "這是項目符號\n",
    "\n",
    "這是項目符號\n",
    "\n",
    "這是項目編號\n",
    "\n",
    "這是項目編號\n",
    "\n",
    "print(\"Hello! World!\")"
   ]
  },
  {
   "cell_type": "code",
   "execution_count": 3,
   "id": "0879e697",
   "metadata": {},
   "outputs": [
    {
     "name": "stdout",
     "output_type": "stream",
     "text": [
      "我的姓名:lancehsu\n",
      "==================================================\n"
     ]
    }
   ],
   "source": [
    "# 字串可以使用的數學運算子(+,*)\n",
    "\n",
    "print(\"我的姓名:\" + \"lancehsu\")\n",
    "print(\"=\" * 50)"
   ]
  },
  {
   "cell_type": "code",
   "execution_count": 2,
   "id": "6a5ec81f",
   "metadata": {},
   "outputs": [
    {
     "name": "stdout",
     "output_type": "stream",
     "text": [
      "我的個人資料:\n",
      "姓名:\t許傑峰\n",
      "姓別:\t男\n"
     ]
    }
   ],
   "source": [
    "# 字串的特殊符號\n",
    "# \\n -> 換行\n",
    "# \\t -> tab\n",
    "\n",
    "print(\"我的個人資料:\\n姓名:\\t許傑峰\\n姓別:\\t男\")"
   ]
  },
  {
   "cell_type": "code",
   "execution_count": 2,
   "id": "830e31fb",
   "metadata": {},
   "outputs": [
    {
     "name": "stdout",
     "output_type": "stream",
     "text": [
      "我的個人資料:\n",
      "姓名:   許傑峰\n",
      "性別:   男\n"
     ]
    }
   ],
   "source": [
    "# 多行文字\n",
    "info = '''我的個人資料:\n",
    "姓名:   許傑峰\n",
    "性別:   男'''\n",
    "\n",
    "print(info)"
   ]
  },
  {
   "cell_type": "code",
   "execution_count": null,
   "id": "9fa29ea9",
   "metadata": {},
   "outputs": [],
   "source": []
  }
 ],
 "metadata": {
  "kernelspec": {
   "display_name": "base",
   "language": "python",
   "name": "python3"
  },
  "language_info": {
   "codemirror_mode": {
    "name": "ipython",
    "version": 3
   },
   "file_extension": ".py",
   "mimetype": "text/x-python",
   "name": "python",
   "nbconvert_exporter": "python",
   "pygments_lexer": "ipython3",
   "version": "3.13.2"
  }
 },
 "nbformat": 4,
 "nbformat_minor": 5
}
